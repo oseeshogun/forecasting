{
 "cells": [
  {
   "cell_type": "code",
   "execution_count": 1,
   "metadata": {},
   "outputs": [],
   "source": [
    "class MvForecast():\n",
    "\n",
    "    def __init__(*fs,\n",
    "                 not_same_len_action=\"trim\",\n",
    "                 merge_Xvars=\"union\",\n",
    "                 merge_future_dates=\"longest\",\n",
    "                 names=None,\n",
    "                 **kwargs):\n",
    "        print(fs)\n",
    "        print(not_same_len_action)\n",
    "        print(kwargs)\n"
   ]
  },
  {
   "cell_type": "code",
   "execution_count": 2,
   "metadata": {},
   "outputs": [],
   "source": [
    "n = 'Me'\n",
    "me = 'You'"
   ]
  },
  {
   "cell_type": "code",
   "execution_count": 3,
   "metadata": {},
   "outputs": [
    {
     "name": "stdout",
     "output_type": "stream",
     "text": [
      "(<__main__.MvForecast object at 0x7f796685f3d0>, 'Me', 'You')\n",
      "trim\n",
      "{}\n"
     ]
    }
   ],
   "source": [
    "f = MvForecast(n, me, names=['label1', 'label2'])"
   ]
  },
  {
   "cell_type": "code",
   "execution_count": 5,
   "metadata": {},
   "outputs": [
    {
     "name": "stdout",
     "output_type": "stream",
     "text": [
      "(<__main__.MvForecast object at 0x7f796685db40>, 'Me', 'You')\n",
      "trim\n",
      "{}\n"
     ]
    },
    {
     "data": {
      "text/plain": [
       "<__main__.MvForecast at 0x7f796685db40>"
      ]
     },
     "execution_count": 5,
     "metadata": {},
     "output_type": "execute_result"
    }
   ],
   "source": [
    "MvForecast(*[\"Me\", 'You'])"
   ]
  },
  {
   "cell_type": "code",
   "execution_count": null,
   "metadata": {},
   "outputs": [],
   "source": []
  },
  {
   "cell_type": "code",
   "execution_count": null,
   "metadata": {},
   "outputs": [],
   "source": []
  }
 ],
 "metadata": {
  "kernelspec": {
   "display_name": "Python 3.10.6 64-bit",
   "language": "python",
   "name": "python3"
  },
  "language_info": {
   "codemirror_mode": {
    "name": "ipython",
    "version": 3
   },
   "file_extension": ".py",
   "mimetype": "text/x-python",
   "name": "python",
   "nbconvert_exporter": "python",
   "pygments_lexer": "ipython3",
   "version": "3.10.6"
  },
  "orig_nbformat": 4,
  "vscode": {
   "interpreter": {
    "hash": "e7370f93d1d0cde622a1f8e1c04877d8463912d04d973331ad4851f04de6915a"
   }
  }
 },
 "nbformat": 4,
 "nbformat_minor": 2
}
